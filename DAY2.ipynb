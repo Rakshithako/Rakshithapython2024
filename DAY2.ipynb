{
  "nbformat": 4,
  "nbformat_minor": 0,
  "metadata": {
    "colab": {
      "provenance": []
    },
    "kernelspec": {
      "name": "python3",
      "display_name": "Python 3"
    },
    "language_info": {
      "name": "python"
    }
  },
  "cells": [
    {
      "cell_type": "markdown",
      "source": [],
      "metadata": {
        "id": "33kJU8CD0YOZ"
      }
    },
    {
      "cell_type": "markdown",
      "source": [
        "Control flow and loop conditional statements"
      ],
      "metadata": {
        "id": "oyeAFuWG0Zsg"
      }
    },
    {
      "cell_type": "code",
      "execution_count": null,
      "metadata": {
        "colab": {
          "base_uri": "https://localhost:8080/"
        },
        "id": "cmV1p9E8zj7s",
        "outputId": "76a61446-96ab-4286-f6e7-2298485f8a5d"
      },
      "outputs": [
        {
          "output_type": "stream",
          "name": "stdout",
          "text": [
            "your are eligible to vote.\n"
          ]
        }
      ],
      "source": [
        "age = 18\n",
        "if age >= 18:\n",
        "  print(\"your are eligible to vote.\")"
      ]
    },
    {
      "cell_type": "markdown",
      "source": [
        "If- else statements"
      ],
      "metadata": {
        "id": "vEhYkEn62RvH"
      }
    },
    {
      "cell_type": "code",
      "source": [
        "num = int(input(\"enter a number: \"))\n",
        "if num%2 == 0:\n",
        "  print(\"the number is even\")\n",
        "else:\n",
        "    print(\"the number is odd\")"
      ],
      "metadata": {
        "colab": {
          "base_uri": "https://localhost:8080/"
        },
        "id": "HhNnz1TA2MFA",
        "outputId": "4a96987b-957b-4ada-e6a1-efc6b5c4ce4e"
      },
      "execution_count": null,
      "outputs": [
        {
          "output_type": "stream",
          "name": "stdout",
          "text": [
            "enter a number: 567\n",
            "the number is odd\n"
          ]
        }
      ]
    },
    {
      "cell_type": "code",
      "source": [
        "marks = int(input(\"enter your marks:\"))\n",
        "if marks >= 90:\n",
        "  print(\"grade: A\")\n",
        "elif marks >=75:\n",
        "  print(\"grade: B\")\n",
        "elif marks >= 50:\n",
        "    print(\"grade: C\")\n",
        "else:\n",
        "  print(\"grade: D\")"
      ],
      "metadata": {
        "colab": {
          "base_uri": "https://localhost:8080/"
        },
        "id": "ycqUljhM4UdI",
        "outputId": "2c22516a-9fe6-4e3e-f2c9-e100406d8e31"
      },
      "execution_count": null,
      "outputs": [
        {
          "output_type": "stream",
          "name": "stdout",
          "text": [
            "enter your marks:60\n",
            "grade: C\n"
          ]
        }
      ]
    },
    {
      "cell_type": "code",
      "source": [
        "for i in range(5):\n",
        "  print(\"iteration:\" , i)"
      ],
      "metadata": {
        "colab": {
          "base_uri": "https://localhost:8080/"
        },
        "id": "rEl96uLq6F9R",
        "outputId": "91b37901-9fbe-48ed-b2d3-7266a1fc7e19"
      },
      "execution_count": null,
      "outputs": [
        {
          "output_type": "stream",
          "name": "stdout",
          "text": [
            "iteration: 0\n",
            "iteration: 1\n",
            "iteration: 2\n",
            "iteration: 3\n",
            "iteration: 4\n"
          ]
        }
      ]
    },
    {
      "cell_type": "code",
      "source": [
        "for i in range(5,60, 10):\n",
        "  print(\"iteration:\" , i)"
      ],
      "metadata": {
        "colab": {
          "base_uri": "https://localhost:8080/"
        },
        "id": "fQhOeVRX69bA",
        "outputId": "20ccb549-d056-4ccf-fedd-a3bff5c04d30"
      },
      "execution_count": null,
      "outputs": [
        {
          "output_type": "stream",
          "name": "stdout",
          "text": [
            "iteration: 5\n",
            "iteration: 15\n",
            "iteration: 25\n",
            "iteration: 35\n",
            "iteration: 45\n",
            "iteration: 55\n"
          ]
        }
      ]
    },
    {
      "cell_type": "markdown",
      "source": [
        "while loops"
      ],
      "metadata": {
        "id": "AWV3YxOB735v"
      }
    },
    {
      "cell_type": "code",
      "source": [
        "count = 0\n",
        "while count < 5:\n",
        "  print(\"count:\", count)\n",
        "  count += 1"
      ],
      "metadata": {
        "colab": {
          "base_uri": "https://localhost:8080/"
        },
        "id": "ISpWYwC97wwA",
        "outputId": "e025e55c-8f57-4b6f-c03b-75c6f2641d5c"
      },
      "execution_count": null,
      "outputs": [
        {
          "output_type": "stream",
          "name": "stdout",
          "text": [
            "count: 0\n",
            "count: 1\n",
            "count: 2\n",
            "count: 3\n",
            "count: 4\n"
          ]
        }
      ]
    },
    {
      "cell_type": "markdown",
      "source": [
        "control flow tools"
      ],
      "metadata": {
        "id": "-OU_aOLj8hKo"
      }
    },
    {
      "cell_type": "code",
      "source": [
        "for i in range(10):\n",
        "  if i ==5:\n",
        "    break\n",
        "  print(i)"
      ],
      "metadata": {
        "colab": {
          "base_uri": "https://localhost:8080/"
        },
        "id": "58qSO1d28qUP",
        "outputId": "a7018966-ead1-4056-82d7-f3da8e17d28f"
      },
      "execution_count": null,
      "outputs": [
        {
          "output_type": "stream",
          "name": "stdout",
          "text": [
            "0\n",
            "1\n",
            "2\n",
            "3\n",
            "4\n"
          ]
        }
      ]
    },
    {
      "cell_type": "code",
      "source": [
        "for i in range(10):\n",
        "  if i ==5:\n",
        "    continue\n",
        "  print(i)\n",
        "\n"
      ],
      "metadata": {
        "colab": {
          "base_uri": "https://localhost:8080/"
        },
        "id": "BQEXvsBt-Abg",
        "outputId": "099184fe-39da-4474-88a8-f286b0c5fe1f"
      },
      "execution_count": null,
      "outputs": [
        {
          "output_type": "stream",
          "name": "stdout",
          "text": [
            "0\n",
            "1\n",
            "2\n",
            "3\n",
            "4\n",
            "6\n",
            "7\n",
            "8\n",
            "9\n"
          ]
        }
      ]
    },
    {
      "cell_type": "code",
      "source": [
        "for i in range(10):\n",
        "  pass\n",
        "  print(i)"
      ],
      "metadata": {
        "colab": {
          "base_uri": "https://localhost:8080/"
        },
        "id": "5x1YOvvk-5zw",
        "outputId": "d861d628-d733-4590-b8eb-c2a590e87482"
      },
      "execution_count": null,
      "outputs": [
        {
          "output_type": "stream",
          "name": "stdout",
          "text": [
            "0\n",
            "1\n",
            "2\n",
            "3\n",
            "4\n",
            "5\n",
            "6\n",
            "7\n",
            "8\n",
            "9\n"
          ]
        }
      ]
    },
    {
      "cell_type": "markdown",
      "source": [
        "Hands-on practice"
      ],
      "metadata": {
        "id": "QRU6wgadCLFJ"
      }
    },
    {
      "cell_type": "code",
      "source": [
        "number=int(input(\"enter a number:\"))\n",
        "if number%2==0:\n",
        "  print(\"the number is even\")\n",
        "else:\n",
        "  print(\"the number is odd\")"
      ],
      "metadata": {
        "colab": {
          "base_uri": "https://localhost:8080/"
        },
        "id": "cRS_TTCt_MZ_",
        "outputId": "869519fb-a844-4f01-b556-de9e593655fc"
      },
      "execution_count": null,
      "outputs": [
        {
          "output_type": "stream",
          "name": "stdout",
          "text": [
            "enter a number:22\n",
            "the number is even\n"
          ]
        }
      ]
    },
    {
      "cell_type": "markdown",
      "source": [
        "sum of numbers in a given range"
      ],
      "metadata": {
        "id": "tg-QtB39DEnw"
      }
    },
    {
      "cell_type": "code",
      "source": [
        "start = int(input(\"enter the start of the range: \"))\n",
        "end = int(input(\"enter the end of the range : \"))\n",
        "sum = 0\n",
        "for i in range(start, end + 1):\n",
        "  sum += i\n",
        "  print(\"the sum is:\", sum)"
      ],
      "metadata": {
        "colab": {
          "base_uri": "https://localhost:8080/"
        },
        "id": "2oKFV6PzDMWS",
        "outputId": "47269d82-fba5-473c-8cda-fc03264f8e45"
      },
      "execution_count": null,
      "outputs": [
        {
          "output_type": "stream",
          "name": "stdout",
          "text": [
            "enter the start of the range: 5\n",
            "enter the end of the range : 10\n",
            "the sum is: 5\n",
            "the sum is: 11\n",
            "the sum is: 18\n",
            "the sum is: 26\n",
            "the sum is: 35\n",
            "the sum is: 45\n"
          ]
        }
      ]
    },
    {
      "cell_type": "markdown",
      "source": [
        "factorial number"
      ],
      "metadata": {
        "id": "KoW6d3VDHzkw"
      }
    },
    {
      "cell_type": "code",
      "source": [
        "number=int(input(\"enter a number:\"))\n",
        "factorial=1\n",
        "for i in range(1, number+1):\n",
        "  factorial*=i\n",
        "  print(\"the factorial is:\", factorial)\n"
      ],
      "metadata": {
        "colab": {
          "base_uri": "https://localhost:8080/"
        },
        "id": "oJgxEiCEFBRx",
        "outputId": "63ffc3bb-e0b7-4e6b-f000-8455ece3e3de"
      },
      "execution_count": null,
      "outputs": [
        {
          "output_type": "stream",
          "name": "stdout",
          "text": [
            "enter a number:5\n",
            "the factorial is: 1\n",
            "the factorial is: 2\n",
            "the factorial is: 6\n",
            "the factorial is: 24\n",
            "the factorial is: 120\n"
          ]
        }
      ]
    },
    {
      "cell_type": "markdown",
      "source": [
        "Fibonacci sequence"
      ],
      "metadata": {
        "id": "ta9WPj6yH9Bn"
      }
    },
    {
      "cell_type": "code",
      "source": [
        "n = int(input(\"enter the number of terms: \"))\n",
        "a, b =0, 1\n",
        "for i in range(n):\n",
        "  print(a, end=\" \")\n",
        "a,b = b, a + b"
      ],
      "metadata": {
        "colab": {
          "base_uri": "https://localhost:8080/"
        },
        "id": "K8CdRD2UH7wL",
        "outputId": "6ff1c6e9-1554-43a9-b6d3-8e4c16494a38"
      },
      "execution_count": null,
      "outputs": [
        {
          "output_type": "stream",
          "name": "stdout",
          "text": [
            "enter the number of terms: 5\n",
            "0 0 0 0 0 "
          ]
        }
      ]
    },
    {
      "cell_type": "markdown",
      "source": [
        "simple calculator using if-else"
      ],
      "metadata": {
        "id": "U4N3SRF_UntJ"
      }
    },
    {
      "cell_type": "code",
      "source": [
        "num1=float(input(\"enter first number:\"))\n",
        "num2=float(input(\"enter second number:\"))\n",
        "operation=input(\"enter operation(+,-,*,/,//,%):\")\n",
        "if operation=='+':\n",
        "  print(\"result:\",num1+num2)\n",
        "elif operation=='-':\n",
        "  print(\"result:\",num1-num2)\n",
        "elif operation=='*':\n",
        "  print(\"result:\",num1*num2)\n",
        "elif operation=='/':\n",
        "  print(\"result:\",num1/num2)\n",
        "elif operation=='//':\n",
        "  print(\"result:\",num1//num2)\n",
        "elif operation=='**':\n",
        "  print(\"result:\",num1**num2)\n",
        "elif operation=='%':\n",
        "  print(\"result:\",num1%num2)\n",
        "else:\n",
        "  print(\"invalid operator\")"
      ],
      "metadata": {
        "colab": {
          "base_uri": "https://localhost:8080/"
        },
        "id": "BGd6m_ZLUy-I",
        "outputId": "f540f7be-0ec2-47d9-b146-65ae696e876c"
      },
      "execution_count": null,
      "outputs": [
        {
          "output_type": "stream",
          "name": "stdout",
          "text": [
            "enter first number:23\n",
            "enter second number:88\n",
            "enter operation(+,-,*,/,//,%):%\n",
            "result: 23.0\n"
          ]
        }
      ]
    },
    {
      "cell_type": "markdown",
      "source": [
        "check leap year"
      ],
      "metadata": {
        "id": "v1Q8LEMOd9cq"
      }
    },
    {
      "cell_type": "code",
      "source": [],
      "metadata": {
        "id": "tOcaqSdyejB2"
      },
      "execution_count": null,
      "outputs": []
    },
    {
      "cell_type": "code",
      "source": [
        "year=int(input(\"enter a year:\"))\n",
        "if(year%4==0 and year%100!=0) or(year%400==0):\n",
        "  print(\"leap year\")\n",
        "else:\n",
        "  print(\"not a leap year\")\n"
      ],
      "metadata": {
        "colab": {
          "base_uri": "https://localhost:8080/"
        },
        "id": "IhIidpd8eDoy",
        "outputId": "4484a5cf-4b9b-4708-cf22-ee3b211961b1"
      },
      "execution_count": null,
      "outputs": [
        {
          "output_type": "stream",
          "name": "stdout",
          "text": [
            "enter a year:2024\n",
            "leap year\n"
          ]
        }
      ]
    },
    {
      "cell_type": "markdown",
      "source": [
        "largest of three number"
      ],
      "metadata": {
        "id": "1pgRVMc5gaGZ"
      }
    },
    {
      "cell_type": "code",
      "source": [
        "num1=float(input(\"enter the first number:\"))\n",
        "num2=float(input(\"enterthe second number:\"))\n",
        "num3=float(input(\"enter the third number\"))\n",
        "if num1>=num2 and num1>=num3:\n",
        "  print(\"largest number is:\",num1)\n",
        "elif num2>=num3:\n",
        "  print(\"largest number is:\",num2)\n",
        "else:\n",
        "  print(\"largest number is:\",num3)"
      ],
      "metadata": {
        "colab": {
          "base_uri": "https://localhost:8080/"
        },
        "id": "6ralEq5SgeEh",
        "outputId": "7e875160-e2bf-4256-bde2-314a45575038"
      },
      "execution_count": null,
      "outputs": [
        {
          "output_type": "stream",
          "name": "stdout",
          "text": [
            "enter the first number:686\n",
            "enterthe second number:88888\n",
            "enter the third number99\n",
            "largest number is: 88888.0\n"
          ]
        }
      ]
    },
    {
      "cell_type": "code",
      "source": [
        "a=int(input(\"enter a number:\"))\n",
        "if a>0:\n",
        "  print(\"positive number\")\n",
        "elif a<0:\n",
        "  print(\"negative number\")\n",
        "else:\n",
        "  print(\"zero\")"
      ],
      "metadata": {
        "colab": {
          "base_uri": "https://localhost:8080/"
        },
        "id": "raeIBo8YjgjL",
        "outputId": "b4bbbf10-c6bc-4d90-d888-eea290050a6c"
      },
      "execution_count": null,
      "outputs": [
        {
          "output_type": "stream",
          "name": "stdout",
          "text": [
            "enter a number:5\n",
            "positive number\n"
          ]
        }
      ]
    },
    {
      "cell_type": "markdown",
      "source": [
        "sum of all even number in a range"
      ],
      "metadata": {
        "id": "kDfLFrDvj9dR"
      }
    },
    {
      "cell_type": "code",
      "source": [
        "start=int(input(\"enter the start of range:\"))\n",
        "end=int(input(\"enter the end of range:\"))\n",
        "even_sum=0\n",
        "for num in range(start,end+1):\n",
        "  if num%2==0:\n",
        "    even_sum+=num\n",
        "    print(\"the sum of even numbers:\",even_sum)"
      ],
      "metadata": {
        "colab": {
          "base_uri": "https://localhost:8080/"
        },
        "id": "pGXflwvqkEtp",
        "outputId": "24ca4b18-08a0-4989-aecc-3b4632cf05f9"
      },
      "execution_count": null,
      "outputs": [
        {
          "output_type": "stream",
          "name": "stdout",
          "text": [
            "enter the start of range:30\n",
            "enter the end of range:50\n",
            "the sum of even numbers: 30\n",
            "the sum of even numbers: 62\n",
            "the sum of even numbers: 96\n",
            "the sum of even numbers: 132\n",
            "the sum of even numbers: 170\n",
            "the sum of even numbers: 210\n",
            "the sum of even numbers: 252\n",
            "the sum of even numbers: 296\n",
            "the sum of even numbers: 342\n",
            "the sum of even numbers: 390\n",
            "the sum of even numbers: 440\n"
          ]
        }
      ]
    }
  ]
}