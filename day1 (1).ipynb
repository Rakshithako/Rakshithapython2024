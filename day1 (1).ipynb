{
  "nbformat": 4,
  "nbformat_minor": 0,
  "metadata": {
    "colab": {
      "provenance": []
    },
    "kernelspec": {
      "name": "python3",
      "display_name": "Python 3"
    },
    "language_info": {
      "name": "python"
    }
  },
  "cells": [
    {
      "cell_type": "code",
      "source": [],
      "metadata": {
        "id": "H3Zpu-fq4wcp"
      },
      "execution_count": null,
      "outputs": []
    },
    {
      "cell_type": "code",
      "execution_count": null,
      "metadata": {
        "colab": {
          "base_uri": "https://localhost:8080/"
        },
        "collapsed": true,
        "id": "1AKNvk8ZRBp0",
        "outputId": "e425d8f4-de72-49d6-b1d4-568611d5ea2c"
      },
      "outputs": [
        {
          "output_type": "stream",
          "name": "stdout",
          "text": [
            "hello, world!\n",
            "rakshitha\n",
            "computer science engineering\n"
          ]
        }
      ],
      "source": [
        "print('hello, world!')\n",
        "print('rakshitha')\n",
        "print('computer science engineering')"
      ]
    },
    {
      "cell_type": "code",
      "source": [
        "print(\"i am your student\")\n"
      ],
      "metadata": {
        "colab": {
          "base_uri": "https://localhost:8080/"
        },
        "collapsed": true,
        "id": "SEe1GbSQVAZO",
        "outputId": "00b700bc-c1a3-4ce1-86e0-271e2c3dae03"
      },
      "execution_count": null,
      "outputs": [
        {
          "output_type": "stream",
          "name": "stdout",
          "text": [
            "i am your student\n"
          ]
        }
      ]
    },
    {
      "cell_type": "code",
      "source": [
        "print(\"frghhgh\")\n",
        "# \"\"\"frggysygfh\"\"\"\n"
      ],
      "metadata": {
        "colab": {
          "base_uri": "https://localhost:8080/"
        },
        "id": "Xx2F5-EOcIKm",
        "outputId": "7cbd42aa-d641-45af-b953-de0581274136"
      },
      "execution_count": null,
      "outputs": [
        {
          "output_type": "stream",
          "name": "stdout",
          "text": [
            "frghhgh\n"
          ]
        }
      ]
    },
    {
      "cell_type": "code",
      "source": [
        "x=10 #integer\n",
        "y=3.14 #float\n",
        "name=\"john\" #string\n",
        "print(x)\n",
        "print(y)\n",
        "print(name)\n",
        "print(name + \" is a student\")\n",
        "print(x,y,name)\n",
        "\n",
        "\n",
        "\n",
        "\n"
      ],
      "metadata": {
        "colab": {
          "base_uri": "https://localhost:8080/"
        },
        "id": "bmyLM62W48-c",
        "outputId": "8d34a746-01ea-401b-bf00-b02ea6ac8e73"
      },
      "execution_count": 4,
      "outputs": [
        {
          "output_type": "stream",
          "name": "stdout",
          "text": [
            "10\n",
            "3.14\n",
            "john\n",
            "john is a student\n",
            "10 3.14 john\n"
          ]
        }
      ]
    },
    {
      "cell_type": "code",
      "source": [
        "from binascii import b2a_hqx\n",
        "a=int(input(\"enter the number\"))\n",
        "b=int(input(\"enter the number\"))\n",
        "c=a+b\n",
        "print(c)\n",
        "print(a*b)\n",
        "print(a/b)\n",
        "print(a-b)\n",
        "print(a%b)\n",
        "print(a**b)\n"
      ],
      "metadata": {
        "colab": {
          "base_uri": "https://localhost:8080/"
        },
        "id": "sYJFX5HV93X5",
        "outputId": "7d36fc3b-d6f6-4657-dbe5-8cdd96bc208b"
      },
      "execution_count": 13,
      "outputs": [
        {
          "output_type": "stream",
          "name": "stdout",
          "text": [
            "enter the number25\n",
            "enter the number5\n",
            "30\n",
            "125\n",
            "5.0\n",
            "20\n",
            "0\n",
            "9765625\n"
          ]
        }
      ]
    },
    {
      "cell_type": "code",
      "source": [
        "radius = float(input(\"enter the radiys\"))\n",
        "pi = 3.14\n",
        "area = pi * radius **2\n",
        "print(\"area of circle is :\", area)"
      ],
      "metadata": {
        "colab": {
          "base_uri": "https://localhost:8080/"
        },
        "id": "S1nnoRVQ-ycJ",
        "outputId": "f64ec4ad-77ad-4ef5-fd6b-6e82d25ab12c"
      },
      "execution_count": 10,
      "outputs": [
        {
          "output_type": "stream",
          "name": "stdout",
          "text": [
            "enter the radiys30\n",
            "area of circle is : 2826.0\n"
          ]
        }
      ]
    }
  ]
}